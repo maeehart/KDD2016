{
 "cells": [
  {
   "cell_type": "markdown",
   "metadata": {},
   "source": [
    "# Data-Based Forest Management with Uncertainties and Multiple Objectives"
   ]
  },
  {
   "cell_type": "markdown",
   "metadata": {},
   "source": [
    "## We introduce more uncertainty to our data so that we can model the real difficulties in decision making"
   ]
  },
  {
   "cell_type": "markdown",
   "metadata": {
    "collapsed": true,
    "tags": [
     "worksheet-0"
    ]
   },
   "source": [
    "### Define the shufling of the datasets"
   ]
  },
  {
   "cell_type": "code",
   "execution_count": null,
   "metadata": {
    "collapsed": true
   },
   "outputs": [],
   "source": [
    "no_Stands = 300\n",
    "no_Dataset = 25\n",
    "no_realization = 50"
   ]
  },
  {
   "cell_type": "code",
   "execution_count": null,
   "metadata": {
    "collapsed": false,
    "tags": [
     "worksheet-0"
    ]
   },
   "outputs": [],
   "source": [
    "#Uncomment to make a new AB file\n",
    "\n",
    "#from random import shuffle, randint\n",
    "\n",
    "#AB = [[randint(1,no_Dataset) for j in range(no_realization)] for i in range(no_Stands)]\n",
    "\n",
    "#AB_str = \"AB = [\"\n",
    "#for part in AB:\n",
    "#    AB_str+=str(part)\n",
    "#AB_str+=\"];\"\n",
    "#print_file = open(\"AB.dat\",\"w\")\n",
    "#print_file.write(AB_str)\n",
    "#print_file.close()\n"
   ]
  },
  {
   "cell_type": "markdown",
   "metadata": {
    "collapsed": true,
    "tags": [
     "worksheet-0"
    ]
   },
   "source": [
    "## Defining the details of the problem in a dictionary"
   ]
  },
  {
   "cell_type": "code",
   "execution_count": null,
   "metadata": {
    "collapsed": false,
    "tags": [
     "worksheet-0"
    ]
   },
   "outputs": [],
   "source": [
    "problem = {\n",
    "    'data': \"\"\"\n",
    "int no_Stands = ...;\n",
    "int no_Dataset = ...;    \n",
    "int no_Variables = ...; //Actually outcomes: 1 - 6 incomes, 7-12 Biodiversity, last 1 (don't know why)\n",
    "int max_no_Schedules = ...;\n",
    "int no_realization = \"\"\"+str(no_realization)+\"\"\";\n",
    "range Schedules = 1..max_no_Schedules;\n",
    "range Datasets = 1..no_Dataset;\n",
    "range Stands = 1..no_Stands;\n",
    "range Realizations = 1..no_realization;\n",
    "int AB[Stands][Realizations]=...;\n",
    "//The data was organized in a slightly different fashion.\n",
    "float Data_MKA[1..no_Stands][1..max_no_Schedules][1..no_Dataset][1..no_Variables+1] = ...;\n",
    "\"\"\",\n",
    "    'variables': {\n",
    "        0:{\n",
    "            'name': \"chosen_schedule\",\n",
    "            'opl': \"dvar float chosen_schedule[1..no_Stands][1..max_no_Schedules] in 0..1;\"\n",
    "        },\n",
    "        1:{\n",
    "            'name': \"realization_chooser_income\",\n",
    "            'opl': \"dvar int+ realization_chooser_income[Realizations] in 0..1; //dummy for choosing the datasets considered\"\n",
    "        },\n",
    "        2:{\n",
    "            'name': \"realization_chooser_biodiversity\",\n",
    "            'opl': \"dvar int+ realization_chooser_biodiversity[Realizations] in 0..1; //dummy for choosing the datasets considered\"\n",
    "        },\n",
    "    3:{\n",
    "            'name': \"quantile_income\",\n",
    "            'opl': \"dvar float+ quantile_income; //dummy for choosing the datasets considered\"\n",
    "        },\n",
    "    4:{\n",
    "            'name': \"quantile_biodiversity\",\n",
    "            'opl': \"dvar float+ quantile_biodiversity; //dummy for choosing the datasets considered\"\n",
    "        }\n",
    "    },\n",
    "    'objectives': {\n",
    "        0:{\n",
    "            'name': \"Minimum_income_in_quantile\",\n",
    "            'minimized': \"-1\",\n",
    "            'opl':\"\"\"\n",
    "min(i in 1..6, realization in Realizations) \n",
    "(\n",
    "sum(schedule in 1..max_no_Schedules, stand in 1..no_Stands)\n",
    "(\n",
    "chosen_schedule[stand][schedule]*Data_MKA[stand][schedule][AB[stand][realization]][i] //If realization is in the chosen ones, then the income is given by data\n",
    "+ (1-realization_chooser_income[realization])*max(realization2 in Realizations)Data_MKA[stand][schedule][AB[stand][realization2]][i] //If realization is not in the chosen ones, then the income is 100000.. (a big number)\n",
    ")\n",
    ")\n",
    "\"\"\",\n",
    "        'comment': \"\"\"\n",
    "//Minimum income in the quantile\n",
    "        \"\"\"},\n",
    "        1:{\n",
    "    'name': \"Minimum_biodiversity_in_quantile\",\n",
    "            'minimized': \"-1\",\n",
    "            'opl':\"\"\"\n",
    "min(j in 7..12, realization in Realizations) \n",
    "(\n",
    "sum(stand in 1..no_Stands, schedule in 1..max_no_Schedules)\n",
    "(chosen_schedule[stand][schedule]*Data_MKA[stand][schedule][AB[stand][realization]][j]\n",
    "+ (1-realization_chooser_biodiversity[realization])*max(realization2 in Realizations)Data_MKA[stand][schedule][AB[stand][realization2]][j] //If realization is not in the chosen ones, then the biodiversity is 100000.. (a big number)\n",
    ")\n",
    ")\n",
    "\"\"\",\n",
    "        'comment': \"\"\"\n",
    "//minimum biodiversity in the quantile\n",
    "        \"\"\"\n",
    "        },\n",
    "        2:{\n",
    "    'name': \"Expected_minimum_income\",\n",
    "            'minimized': \"-1\",\n",
    "            'opl':\"\"\"\n",
    "min(i in 1..6)\n",
    "(\n",
    "sum(realization in Realizations) \n",
    "(\n",
    "sum(schedule in 1..max_no_Schedules, stand in 1..no_Stands)\n",
    "chosen_schedule[stand][schedule]*Data_MKA[stand][schedule][AB[stand][realization]][i]\n",
    ")/no_realization\n",
    ")\n",
    "\"\"\",\n",
    "        'comment': \"\"\"\n",
    "//minimum expected income\n",
    "        \"\"\"},\n",
    "        3:{\n",
    "    'name': \"Expected_minimum_biodiversity\",\n",
    "            'minimized': \"-1\",\n",
    "            'opl':\"\"\"\n",
    "min(j in 7..12)\n",
    "(\n",
    "sum(realization in Realizations) \n",
    "(\n",
    "sum(stand in 1..no_Stands, schedule in 1..max_no_Schedules)\n",
    "chosen_schedule[stand][schedule]*Data_MKA[stand][schedule][AB[stand][realization]][j]\n",
    ")/no_realization\n",
    ")\n",
    "\"\"\",\n",
    "        'comment': \"\"\"\n",
    "//Minimum expected biodiversity\n",
    "        \"\"\"},\n",
    "        4:{\n",
    "    'name': \"Reliability_income\",\n",
    "            'minimized': \"-1\",\n",
    "            'opl':\"\"\"\n",
    " sum(realization in Realizations) realization_chooser_income[realization]/no_realization\n",
    "\"\"\",\n",
    "        'comment': \"\"\"\n",
    "//The probability of being in the studied quantile\n",
    "        \"\"\"\n",
    "\t},\n",
    "        5:{\n",
    "    'name': \"Reliability_biodiversity\",\n",
    "            'minimized': \"-1\",\n",
    "            'opl':\"\"\"\n",
    " sum(realization in Realizations) realization_chooser_biodiversity[realization]/no_realization;\n",
    "\"\"\",\n",
    "        'comment': \"\"\"\n",
    "//The probability of being in the studied quantile\n",
    "        \"\"\"\n",
    "\t}\n",
    "    },\n",
    "    'constraints':{\n",
    "        0:{\n",
    "        'opl':\"\"\"\n",
    "forall(stand in 1..no_Stands)\n",
    "sum(schedule in 1..max_no_Schedules) chosen_schedule[stand][schedule] == 1;\n",
    "\"\"\",\n",
    "        'comment':\"\"\"//Only one schedule can be chosen for each stand\"\"\"\n",
    "                            },\n",
    "\t1:{\n",
    "\t    'opl':\"\"\"\n",
    "sum(realization in Realizations) realization_chooser_income[realization]/no_realization >= quantile_income;\n",
    "\t    \"\"\",\n",
    "\t    'comment':\"\"\"\n",
    "//quantile of the realizations must be chosen\n",
    "\"\"\"},\n",
    "    2:{\n",
    "\t    'opl':\"\"\"\n",
    "sum(realization in Realizations) realization_chooser_biodiversity[realization]/no_realization >= quantile_biodiversity;\n",
    "\t    \"\"\",\n",
    "\t    'comment':\"\"\"\n",
    "//quantile of the realizations must be chosen\n",
    "\"\"\"},\n",
    "\t3:{\n",
    "\t    'opl':\"\"\"\n",
    " quantile_income>=1/\"\"\"+str(no_realization)+\"\"\";\n",
    "\t    \"\"\",\n",
    "\t    'comment':\"\"\"\n",
    "//At least one scenario needs to be in the quantile\n",
    "\"\"\"},\n",
    "\t4:{\n",
    "\t    'opl':\"\"\"\n",
    " quantile_biodiversity>=1/\"\"\"+str(no_realization)+\"\"\";\n",
    "\t    \"\"\",\n",
    "\t    'comment':\"\"\"\n",
    "//At least one scenario needs to be in the quantile\n",
    "\"\"\"}\n",
    "    },\n",
    "    'extra_parameters':\"\"\"\n",
    "\n",
    "    \"\"\",\n",
    "#    'data_file':\"LARGE_DATASET/Large_dataset.dat AB.dat\"\n",
    "#    'data_file':\"SMALL_DATASET/SMALL_dataset.dat AB.dat\"\n",
    "    'data_file':\"MEDIUM_DATASETs/dataset_300.dat AB.dat\"\n",
    "\n",
    "    }"
   ]
  },
  {
   "cell_type": "markdown",
   "metadata": {
    "collapsed": true,
    "tags": [
     "worksheet-0"
    ]
   },
   "source": [
    "### Print the Achievement scalarizing problem into an string\n",
    "The bounds of the variables and the reference point are to be added later"
   ]
  },
  {
   "cell_type": "code",
   "execution_count": null,
   "metadata": {
    "collapsed": false,
    "tags": [
     "worksheet-0"
    ]
   },
   "outputs": [],
   "source": [
    "def print_problem(optimized_objective_names,solution_file):\n",
    "    model_ach = problem['data']\n",
    "    model_ach+=\"{string} objective_names = {\"\n",
    "    sign = \"\"\n",
    "    for obj_no in problem['objectives'].keys():\n",
    "        model_ach+=sign+\"\\\"\"+problem['objectives'][obj_no]['name']+\"\\\"\"\n",
    "        sign=\",\"\n",
    "    model_ach+=\"};\\n\"\n",
    "    model_ach+=\"{string} optimized_objective_names = {\"\n",
    "    sign = \"\"\n",
    "    for obj_name in optimized_objective_names:\n",
    "        model_ach+=sign+\"\\\"\"+obj_name+\"\\\"\"\n",
    "        sign=\",\"\n",
    "    model_ach+=\"};\\n\"\n",
    "    model_ach+=\"float ref_point[objective_names] = [\"\n",
    "    sign = \"\"\n",
    "    for obj_no in problem['objectives'].keys():\n",
    "        model_ach+=sign+\"%(\"+problem['objectives'][obj_no]['name']+\"_refpoint)s\"\n",
    "        sign = \",\"\n",
    "    model_ach+=\"];\\n\"\n",
    "    model_ach+=\"float minimized[objective_names]= [\"\n",
    "    sign = \"\"\n",
    "    for obj_no in problem['objectives'].keys():\n",
    "        model_ach+=sign+problem['objectives'][obj_no]['minimized']\n",
    "        sign = \",\"\n",
    "    model_ach+=\"];\\n\"\n",
    "    model_ach+=\"float normalization_factor[objective_names] = [\"\n",
    "    sign = \"\"\n",
    "    for obj_no in problem['objectives'].keys():\n",
    "        model_ach+=sign+\"(%(\"+problem['objectives'][obj_no]['name']+\"_ub)s-%(\"+problem['objectives'][obj_no]['name']+\"_lb)s)\"\n",
    "        sign = \",\"\n",
    "    model_ach+=\"];\\n\"\n",
    "    model_ach+=\"float lb[objective_names] = [\"\n",
    "    sign = \"\"\n",
    "    for obj_no in problem['objectives'].keys():\n",
    "        model_ach+=sign+\"%(\"+problem['objectives'][obj_no]['name']+\"_lb)s\"\n",
    "        sign = \",\"\n",
    "    model_ach+=\"];\\n\"\n",
    "    for var_no in problem['variables'].keys():\n",
    "        model_ach+=problem['variables'][var_no]['opl']\n",
    "        model_ach+=\"\\n\"\n",
    "    model_ach+=\"dvar float objective_value[objective_names];\\n\"\n",
    "    model_ach+= \"maximize \\n min(obj_name in optimized_objective_names) (objective_value[obj_name]-ref_point[obj_name])*1000/normalization_factor[obj_name]+\"\n",
    "    model_ach+=str(rho)+\"*sum(obj_name in objective_names) objective_value[obj_name]*1000/normalization_factor[obj_name];\\n\"\n",
    "    model_ach+=\"\"\"\n",
    "    subject to\n",
    "    {\n",
    "    \"\"\"\n",
    "    for obj_no in problem['objectives'].keys():\n",
    "        model_ach+=problem['objectives'][obj_no]['comment']\n",
    "        model_ach+=\"objective_value[\\\"\"+problem['objectives'][obj_no]['name']+\"\\\"]==\"+problem['objectives'][obj_no]['opl']+\";\\n\"\n",
    "    for constr_no in problem['constraints'].keys():\n",
    "        model_ach+=problem['constraints'][constr_no]['comment']\n",
    "        model_ach+=problem['constraints'][constr_no]['opl']\n",
    "    model_ach+=\"\\n}\"\n",
    "\n",
    "\n",
    "\n",
    "    model_ach+=\"\\n\\nexecute\\n{\\n\"\n",
    "    #model_ach+=\"writeln(\\\"==OBJECTIVES==\\\")\\n\"\n",
    "    model_ach+=\"var ofile = new IloOplOutputFile(\\\"objectives.csv\\\");\\n\"\n",
    "    sign = \"\"\n",
    "    for obj_no in problem['objectives'].keys():\n",
    "    #    model_ach+= \"writeln(\\\"\"+problem['objectives'][obj_no]['name']+\"=\\\"+objective_value[\\\"\"+problem['objectives'][obj_no]['name']+\"\\\"]);\\n\"\n",
    "        model_ach+= \"ofile.write(\\\"\"+sign+\"\\\"+objective_value[\\\"\"+problem['objectives'][obj_no]['name']+\"\\\"]);\\n\"\n",
    "        sign = \",\"\n",
    "    model_ach+=\"ofile.close();\"\n",
    "\n",
    "    model_ach+=\"var ofile = new IloOplOutputFile(\\\"variables.csv\\\");\\n\"\n",
    "    #model_ach+=\"writeln(\\\"==VARIABLES==\\\")\\n\"\n",
    "    for var_no in problem['variables'].keys():\n",
    "    #    model_ach+=\"writeln(\\\"\"+problem['variables'][var_no]['name'] + \"= \\\"+\"+problem['variables'][var_no]['name'] +\");\\n\"\n",
    "        model_ach+=\"ofile.writeln(\\\"\"+problem['variables'][var_no]['name'] + \"= \\\"+\"+problem['variables'][var_no]['name'] +\");\\n\"\n",
    "    model_ach+=\"ofile.close();\"\n",
    "    model_ach+=\"}\"\n",
    "\n",
    "\n",
    "    model_ach+=\"\\n\\nmain\\n{\\n\"\n",
    "    model_ach+=\"var model = thisOplModel; \\n\" \n",
    "    model_ach+=\"model.generate();\\n\"\n",
    "    model_ach+=\"cplex.readMIPStarts(\\\"\"+solution_file+\"\\\");\\n\"\n",
    "    model_ach+=\"cplex.solve();\\n\"\n",
    "    model_ach+=problem['extra_parameters'] +\"\\n\"\n",
    "#    model_ach+=\"cplex.writeMIPStarts(\\\"\"+solution_file+\".mst\\\", 0, 1000);\\n\"\n",
    "    model_ach+=\"thisOplModel.postProcess();\\n\"\n",
    "    model_ach+=\"}\"\n",
    "    return model_ach\n"
   ]
  },
  {
   "cell_type": "markdown",
   "metadata": {
    "collapsed": true,
    "tags": [
     "worksheet-0"
    ]
   },
   "source": [
    "<h3> Estimate nadir and idea values"
   ]
  },
  {
   "cell_type": "markdown",
   "metadata": {},
   "source": [
    "The following code uses the *print_problem* function to estimate the nadir and ideal values of the objectives"
   ]
  },
  {
   "cell_type": "code",
   "execution_count": null,
   "metadata": {
    "collapsed": false,
    "scrolled": true,
    "tags": [
     "worksheet-0"
    ]
   },
   "outputs": [],
   "source": [
    "rho = 0\n",
    "import csv\n",
    "bound_candidates = []\n",
    "\n",
    "\n",
    "#ub_dummy = [1 for obj_no in problem['objectives'].keys()]\n",
    "ub_dummy = [5246600.76009152,520.496,4828656.0397274,519.783,1,1]\n",
    "lb_dummy = [0 for obj_no in problem['objectives'].keys()]\n",
    "\n",
    "lb_dict = {problem['objectives'][obj_no]['name']+\"_lb\":lb_dummy[obj_no] for obj_no in problem['objectives'].keys()}\n",
    "ub_dict = {problem['objectives'][obj_no]['name']+\"_ub\":ub_dummy[obj_no] for obj_no in problem['objectives'].keys()}\n",
    "reference = [0 for obj_no2 in problem['objectives'].keys()]\n",
    "reference_dict = {problem['objectives'][obj_no]['name']+\"_refpoint\":reference[obj_no] for obj_no in problem['objectives'].keys()}\n",
    "From_GUI_dict = dict(reference_dict.items()+lb_dict.items()+ub_dict.items())\n",
    "\n",
    "\n",
    "\n",
    "for obj_no in problem['objectives'].keys():\n",
    "\n",
    "    model_ach_with_reference = print_problem([problem['objectives'][obj_no]['name']],\"solution\"+str(obj_no)) % From_GUI_dict\n",
    "    f = open('problem_ach_with_reference_'+str(obj_no)+'.mod','w')\n",
    "    f.write(model_ach_with_reference)\n",
    "    f.close()\n",
    "    !oplrun -v -conflict problem_ach_with_reference_{str(obj_no)}.mod {problem['data_file']}\n",
    "    with open('objectives.csv','rb') as csvfile:\n",
    "        obj_reader = csv.reader(csvfile,delimiter = \",\")\n",
    "        for row in  obj_reader:\n",
    "            bound_candidates.append([float(value) for value in row])\n",
    "    !mv variables.csv variables{str(obj_no)}.csv\n",
    "    !mv objectives.csv objectives{str(obj_no)}.csv\n",
    "bound_candidates = zip(*bound_candidates)\n",
    "ub = [max(bounds) for bounds in bound_candidates]\n",
    "lb = [min(bounds) for bounds in bound_candidates]\n",
    "\n",
    "print lb, ub\n",
    "\n",
    "#Make sure that the reference point is never the same as the bounds (basically using the ideal, but slightly easier)\n",
    "lb = [a-rho for a in lb]\n",
    "ub = [a+rho for a in ub]"
   ]
  },
  {
   "cell_type": "markdown",
   "metadata": {},
   "source": [
    "### Calculating the neutral comporomise solution"
   ]
  },
  {
   "cell_type": "markdown",
   "metadata": {},
   "source": [
    "The following script calculates the neutral compromise solution for the problem"
   ]
  },
  {
   "cell_type": "code",
   "execution_count": null,
   "metadata": {
    "collapsed": false,
    "tags": [
     "worksheet-0"
    ]
   },
   "outputs": [],
   "source": [
    "rho = 0.0001\n",
    "\n",
    "\n",
    "lb_dict = {problem['objectives'][obj_no]['name']+\"_lb\":lb[obj_no] for obj_no in problem['objectives'].keys()}\n",
    "ub_dict = {problem['objectives'][obj_no]['name']+\"_ub\":ub[obj_no] for obj_no in problem['objectives'].keys()}\n",
    "\n",
    "reference = [i/2 for i in ub_dummy]\n",
    "reference_dict = {problem['objectives'][obj_no]['name']+\"_refpoint\":reference[obj_no] for obj_no in problem['objectives'].keys()}\n",
    "From_GUI_dict = dict(reference_dict.items()+lb_dict.items()+ub_dict.items())\n",
    "model_ach_with_reference = print_problem([problem['objectives'][obj_no]['name'] for obj_no in problem['objectives'].keys()],\"solution2\") % From_GUI_dict\n",
    "f = open('problem_ach_with_reference_reference1.mod','w')\n",
    "f.write(model_ach_with_reference)\n",
    "f.close()"
   ]
  },
  {
   "cell_type": "code",
   "execution_count": null,
   "metadata": {
    "collapsed": false,
    "scrolled": false
   },
   "outputs": [],
   "source": [
    "!oplrun -v -conflict problem_ach_with_reference_reference1.mod {problem['data_file']}"
   ]
  },
  {
   "cell_type": "markdown",
   "metadata": {},
   "source": [
    "## Solving the achievement scalarizing problem for a given reference point"
   ]
  },
  {
   "cell_type": "code",
   "execution_count": null,
   "metadata": {
    "collapsed": false,
    "tags": [
     "worksheet-0"
    ]
   },
   "outputs": [],
   "source": [
    "rho = 0.0001\n",
    "\n",
    "lb_dict = {problem['objectives'][obj_no]['name']+\"_lb\":lb[obj_no] for obj_no in problem['objectives'].keys()}\n",
    "ub_dict = {problem['objectives'][obj_no]['name']+\"_ub\":ub[obj_no] for obj_no in problem['objectives'].keys()}\n",
    "\n",
    "#This is the reference to be changed w.r.t. the preferences of the decision maker\n",
    "reference = [2500000, 504, 2600000, 505, 0.7, 0.85]\n",
    "\n",
    "reference_dict = {problem['objectives'][obj_no]['name']+\"_refpoint\":reference[obj_no] for obj_no in problem['objectives'].keys()}\n",
    "From_GUI_dict = dict(reference_dict.items()+lb_dict.items()+ub_dict.items())\n",
    "model_ach_with_reference = print_problem([problem['objectives'][obj_no]['name'] for obj_no in problem['objectives'].keys()],\"solution2\") % From_GUI_dict\n",
    "f = open('problem_ach_with_reference_reference1.mod','w')\n",
    "f.write(model_ach_with_reference)\n",
    "f.close()"
   ]
  },
  {
   "cell_type": "code",
   "execution_count": null,
   "metadata": {
    "collapsed": false,
    "scrolled": true
   },
   "outputs": [],
   "source": [
    "!oplrun -v -conflict problem_ach_with_reference_reference1.mod {problem['data_file']}"
   ]
  }
 ],
 "metadata": {
  "celltoolbar": "Raw Cell Format",
  "kernelspec": {
   "display_name": "Python 2",
   "language": "python",
   "name": "python2"
  },
  "language_info": {
   "codemirror_mode": {
    "name": "ipython",
    "version": 2
   },
   "file_extension": ".py",
   "mimetype": "text/x-python",
   "name": "python",
   "nbconvert_exporter": "python",
   "pygments_lexer": "ipython2",
   "version": "2.7.5"
  }
 },
 "nbformat": 4,
 "nbformat_minor": 0
}
